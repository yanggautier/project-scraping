{
 "cells": [
  {
   "cell_type": "markdown",
   "id": "42ab7019",
   "metadata": {},
   "source": [
    "# Enoncé\n",
    "## Application:\n",
    "On considère le site: www.imdb.com\n",
    "\n",
    "1- Analyse du Site Web :\n",
    "\n",
    "On considère le site imdb et cette URL : https://www.imdb.com/title/tt0108778/episodes/ .inspectez la structure HTML pour comprendre comment les informations de la série ,ses épisodes et les différentes saisons sont présentées. Identifiez les balises HTML, les classes et les IDs pertinents qui contiennent les données que vous souhaitez extraire.\n",
    "\n",
    "2-Extraction des Informations de Base :\n",
    "\n",
    "2.1- les épisodes de la saison 1:\n",
    "Utilisez Beautiful Soup pour envoyer une requête HTTP à la page https://www.imdb.com/title/tt0108778/episodes/ récupérez le contenu HTML. Récupérez la liste des episodes de la 1ere saison. Récupérer pour chaque épisode , son numéro, son nom, la date de sortie, la note et la description\n",
    "\n",
    "2.2-Récupérer toutes les saisons\n",
    "Etendre votre travail précédent pour extraire les les épisodes des 10 saisons de la série"
   ]
  },
  {
   "cell_type": "code",
   "execution_count": 1,
   "id": "1bcdfb0d",
   "metadata": {},
   "outputs": [],
   "source": [
    "SITE_URL = \"https://www.imdb.com\""
   ]
  },
  {
   "cell_type": "markdown",
   "id": "a881fca2",
   "metadata": {},
   "source": [
    "## Importations des livrairies nécessaires"
   ]
  },
  {
   "cell_type": "code",
   "execution_count": 2,
   "id": "b5b1b289",
   "metadata": {},
   "outputs": [],
   "source": [
    "import requests\n",
    "import re\n",
    "import pandas as pd\n",
    "import numpy as np\n",
    "from bs4 import BeautifulSoup\n",
    "import seaborn as sns\n",
    "import matplotlib.pyplot as plt\n",
    "from selenium import webdriver\n",
    "from selenium.webdriver.chrome.service import Service\n",
    "from selenium.webdriver.common.by import By\n",
    "from selenium.webdriver.support.ui import WebDriverWait\n",
    "from selenium.webdriver.support.expected_conditions import visibility_of_element_located"
   ]
  },
  {
   "cell_type": "markdown",
   "id": "e22bc8d6",
   "metadata": {},
   "source": [
    "## Définition de fonction pour extraire de l'information sur une page"
   ]
  },
  {
   "cell_type": "code",
   "execution_count": 3,
   "id": "9094355b",
   "metadata": {},
   "outputs": [],
   "source": [
    "# Extract top actors in episod\n",
    "def extract_episode_actors_info(url, episod, season):\n",
    "    \n",
    "    driver.get(url)\n",
    "    content = driver.page_source\n",
    "    soup = BeautifulSoup(content, 'html.parser')\n",
    "    \n",
    "    grid = soup.find_all('div',{'data-testid':'title-cast-item'})\n",
    "    actors = []\n",
    "    \n",
    "    for tile in grid:\n",
    "        actor = tile.find(\"a\", {\"data-testid\": \"title-cast-item__actor\"}).text\n",
    "        actors.append({\"actor\": actor, \"episod\": episod, \"season\": season})\n",
    "    \n",
    "    return actors"
   ]
  },
  {
   "cell_type": "code",
   "execution_count": 4,
   "id": "2b19fb78",
   "metadata": {},
   "outputs": [],
   "source": [
    "# Extract all informations in a card\n",
    "def extract_session_info(url):\n",
    "    \n",
    "    driver.get(url)\n",
    "    content = driver.page_source\n",
    "    soup = BeautifulSoup(content, 'html.parser')\n",
    "    \n",
    "    articles = soup.find_all('article',{'class':'episode-item-wrapper'})\n",
    "    episods_list = []\n",
    "    actor_list = []\n",
    "    \n",
    "    for article in articles:\n",
    "        title_season_episod = article.find(\"h4\").text\n",
    "        title_elements = title_season_episod.split(\"∙\")\n",
    "        title = title_elements[1]\n",
    "        episod_infos = title_elements[0].strip().split(\".\")\n",
    "        season, episod = episod_infos[0], episod_infos[1]\n",
    "        desc = article.find(\"div\", {\"class\": \"ipc-html-content-inner-div\"}).text\n",
    "        episod_url_suffixe = article.find(\"a\", {\"class\": \"ipc-title-link-wrapper\"}).attrs[\"href\"]\n",
    "        episod_url = SITE_URL +  episod_url_suffixe if episod_url_suffixe else None\n",
    "\n",
    "        actors = extract_episode_actors_info(episod_url, episod, season)\n",
    "        \n",
    "        rate_group = article.find(\"span\", {\"class\":\"ratingGroup--imdb-rating\"}).text.replace(\"\\xa0\", \" \").split(\" \")\n",
    "        rating = rate_group[0].split(\"/\")[0]\n",
    "        vote_nb = rate_group[1].strip().replace(\"(\", \"\") + \" \" + rate_group[2].strip().replace(\")\", \"\")\n",
    "        date = article.find(\"span\", {\"class\": \"sc-ccd6e31b-10\"}).text\n",
    "        \n",
    "        actor_list = actor_list + actors\n",
    "        episods_list.append({\"title\": title, \"description\": desc, \"season\": season, \"episod\": episod, \"rating\": rating, \"vote\": vote_nb, \"date\": date})\n",
    "    \n",
    "    return episods_list, actor_list"
   ]
  },
  {
   "cell_type": "code",
   "execution_count": null,
   "id": "b87d605f",
   "metadata": {},
   "outputs": [],
   "source": [
    "driver = webdriver.Chrome()    \n",
    "episod_list, actor_list = [], []\n",
    "\n",
    "for id_saison in range(1, 11):\n",
    "    episods, actors = extract_session_info(f\"https://www.imdb.com/title/tt0108778/episodes/?season={id_saison}\")\n",
    "    episod_list = episod_list + episods \n",
    "    actor_list = actor_list + actors"
   ]
  },
  {
   "cell_type": "code",
   "execution_count": null,
   "id": "7e2c225b",
   "metadata": {},
   "outputs": [],
   "source": [
    "df_actor = pd.DataFrame.from_dict(actor_list) "
   ]
  },
  {
   "cell_type": "code",
   "execution_count": null,
   "id": "302c9ee8",
   "metadata": {},
   "outputs": [],
   "source": [
    "df_actor.head()"
   ]
  },
  {
   "cell_type": "code",
   "execution_count": null,
   "id": "7deafad4",
   "metadata": {},
   "outputs": [],
   "source": [
    "df_actor.info()"
   ]
  },
  {
   "cell_type": "code",
   "execution_count": null,
   "id": "ee4243b2",
   "metadata": {},
   "outputs": [],
   "source": [
    "df_episod = pd.DataFrame.from_dict(episod_list)"
   ]
  },
  {
   "cell_type": "code",
   "execution_count": null,
   "id": "a48c742a",
   "metadata": {},
   "outputs": [],
   "source": [
    "df_episod"
   ]
  },
  {
   "cell_type": "markdown",
   "id": "c0b6efa7",
   "metadata": {},
   "source": [
    "### Sauvegarde de données traités pour la réutilisation, sans scraper une fois à nouveau"
   ]
  },
  {
   "cell_type": "code",
   "execution_count": null,
   "id": "632d5bae",
   "metadata": {},
   "outputs": [],
   "source": [
    "df_actor.to_csv(\"data/actors.csv\")\n",
    "df_episod.to_csv(\"data/episods.csv\")"
   ]
  },
  {
   "cell_type": "markdown",
   "id": "4d41c5d6",
   "metadata": {},
   "source": [
    "### Lecture de données sauvegardées"
   ]
  },
  {
   "cell_type": "code",
   "execution_count": 99,
   "id": "3a400522",
   "metadata": {},
   "outputs": [],
   "source": [
    "df_play = pd.read_csv(\"data/actors.csv\", index_col=[0])\n",
    "df = pd.read_csv(\"data/episods.csv\", index_col=[0])"
   ]
  },
  {
   "cell_type": "markdown",
   "id": "04fa7e3f",
   "metadata": {},
   "source": [
    "### Préparation de données pour injection dans la BDD MySQL"
   ]
  },
  {
   "cell_type": "code",
   "execution_count": 100,
   "id": "80eee04f",
   "metadata": {},
   "outputs": [],
   "source": [
    "def french_date_to_english(date_string):\n",
    "    month_dict = {\n",
    "        'janv.': 'Jan', 'févr.': 'Feb', 'mars': 'Mar', 'avr.': 'Apr',\n",
    "        'mai': 'May', 'juin': 'Jun', 'juil.': 'Jul', 'août': 'Aug',\n",
    "        'sept.': 'Sep', 'oct.': 'Oct', 'nov.': 'Nov', 'déc.': 'Dec'\n",
    "    }\n",
    "    for fr, en in month_dict.items():\n",
    "        date_string = date_string.replace(fr, en)\n",
    "    return date_string"
   ]
  },
  {
   "cell_type": "code",
   "execution_count": 101,
   "id": "786b3c24",
   "metadata": {},
   "outputs": [],
   "source": [
    "df[\"date\"] = df[\"date\"].str.split(',').str[1].str.strip()\n",
    "df[\"date\"] = df[\"date\"].apply(french_date_to_english)\n",
    "df['date'] = pd.to_datetime(df['date'], format='%d %b %Y')\n",
    "df[\"rating\"] = df[\"rating\"].str.replace(\",\",\".\").astype(float)\n",
    "df[\"vote\"] = df[\"vote\"].apply(lambda x: int(float(x.replace('k', '').strip().replace(\",\", \".\"))*1000) if 'k' in x else x)\n",
    "df.index.rename('id', inplace=True)"
   ]
  },
  {
   "cell_type": "code",
   "execution_count": 102,
   "id": "7bdfea74",
   "metadata": {},
   "outputs": [],
   "source": [
    "df_episods = pd.DataFrame(df[\"episod\"].unique(), columns=['title'])\n",
    "df_episods.index.rename('episod_id', inplace=True)"
   ]
  },
  {
   "cell_type": "code",
   "execution_count": 103,
   "id": "602d7a1c",
   "metadata": {},
   "outputs": [],
   "source": [
    "df_actor = pd.DataFrame(df_play[\"actor\"].unique(), columns=['full_name'])\n",
    "df_actor.index.rename('actor_id', inplace=True)"
   ]
  },
  {
   "cell_type": "code",
   "execution_count": 104,
   "id": "becfb368",
   "metadata": {},
   "outputs": [],
   "source": [
    "df_seasons = pd.DataFrame(df[\"season\"].unique(), columns=['title'])\n",
    "df_seasons.index.rename('season_id', inplace=True)"
   ]
  },
  {
   "cell_type": "code",
   "execution_count": 105,
   "id": "19c06d53",
   "metadata": {},
   "outputs": [],
   "source": [
    "season_to_id_dict = dict(zip(df_seasons['title'].values, df_seasons.index.values))\n",
    "df[\"season_id\"] = df[\"season\"].replace(season_to_id_dict)\n",
    "df.drop('season', axis=1, inplace=True)"
   ]
  },
  {
   "cell_type": "code",
   "execution_count": 106,
   "id": "3a043b0f",
   "metadata": {},
   "outputs": [],
   "source": [
    "df_play[\"season_id\"] = df_play[\"season\"].replace(season_to_id_dict)\n",
    "df_play.index.rename('play_id', inplace=True)\n",
    "df_play.drop('season', axis=1, inplace=True)\n",
    "\n",
    "actor_to_id_dict = dict(zip(df_actor['full_name'].values, df_actor.index.values))\n",
    "df_play[\"actor_id\"] = df_play[\"actor\"].replace(actor_to_id_dict)\n",
    "df_play.drop('actor', axis=1, inplace=True)\n",
    "\n",
    "episod_to_id_dict = dict(zip(df_episods['title'].values, df_episods.index.values))\n",
    "df[\"episod_id\"] = df[\"episod\"].replace(episod_to_id_dict)\n",
    "df.drop('episod', axis=1, inplace=True)\n",
    "\n",
    "df_play[\"episod_id\"] = df_play[\"episod\"].replace(episod_to_id_dict)\n",
    "df_play.drop('episod', axis=1, inplace=True)"
   ]
  },
  {
   "cell_type": "code",
   "execution_count": 107,
   "id": "bde8a2f4",
   "metadata": {},
   "outputs": [
    {
     "data": {
      "text/html": [
       "<div>\n",
       "<style scoped>\n",
       "    .dataframe tbody tr th:only-of-type {\n",
       "        vertical-align: middle;\n",
       "    }\n",
       "\n",
       "    .dataframe tbody tr th {\n",
       "        vertical-align: top;\n",
       "    }\n",
       "\n",
       "    .dataframe thead th {\n",
       "        text-align: right;\n",
       "    }\n",
       "</style>\n",
       "<table border=\"1\" class=\"dataframe\">\n",
       "  <thead>\n",
       "    <tr style=\"text-align: right;\">\n",
       "      <th></th>\n",
       "      <th>season_id</th>\n",
       "      <th>actor_id</th>\n",
       "      <th>episod_id</th>\n",
       "    </tr>\n",
       "    <tr>\n",
       "      <th>play_id</th>\n",
       "      <th></th>\n",
       "      <th></th>\n",
       "      <th></th>\n",
       "    </tr>\n",
       "  </thead>\n",
       "  <tbody>\n",
       "    <tr>\n",
       "      <th>0</th>\n",
       "      <td>0</td>\n",
       "      <td>0</td>\n",
       "      <td>0</td>\n",
       "    </tr>\n",
       "    <tr>\n",
       "      <th>1</th>\n",
       "      <td>0</td>\n",
       "      <td>1</td>\n",
       "      <td>0</td>\n",
       "    </tr>\n",
       "    <tr>\n",
       "      <th>2</th>\n",
       "      <td>0</td>\n",
       "      <td>2</td>\n",
       "      <td>0</td>\n",
       "    </tr>\n",
       "    <tr>\n",
       "      <th>3</th>\n",
       "      <td>0</td>\n",
       "      <td>3</td>\n",
       "      <td>0</td>\n",
       "    </tr>\n",
       "    <tr>\n",
       "      <th>4</th>\n",
       "      <td>0</td>\n",
       "      <td>4</td>\n",
       "      <td>0</td>\n",
       "    </tr>\n",
       "  </tbody>\n",
       "</table>\n",
       "</div>"
      ],
      "text/plain": [
       "         season_id  actor_id  episod_id\n",
       "play_id                                \n",
       "0                0         0          0\n",
       "1                0         1          0\n",
       "2                0         2          0\n",
       "3                0         3          0\n",
       "4                0         4          0"
      ]
     },
     "execution_count": 107,
     "metadata": {},
     "output_type": "execute_result"
    }
   ],
   "source": [
    "df_play.head()"
   ]
  },
  {
   "cell_type": "markdown",
   "id": "4c6f3745",
   "metadata": {},
   "source": [
    "##  BDD"
   ]
  },
  {
   "cell_type": "code",
   "execution_count": null,
   "id": "0c8c31d9",
   "metadata": {},
   "outputs": [],
   "source": [
    "#! pip  install  --upgrade  sqlalchemy\n",
    "#! pip  install  --upgrade  sqlalchemy-utils"
   ]
  },
  {
   "cell_type": "code",
   "execution_count": 108,
   "id": "4a5f5ba3",
   "metadata": {},
   "outputs": [],
   "source": [
    "import pymysql\n",
    "from sqlalchemy import create_engine,text\n",
    "from sqlalchemy_utils import database_exists, create_database\n",
    "db_user = 'postgres'\n",
    "db_user = 'root'\n",
    "db_pass = ''\n",
    "db_ip = '127.0.0.1'\n",
    "db_name = 'db_friends'\n",
    "engine = create_engine('mysql+pymysql://{}:{}@{}/{}'.format(db_user,db_pass,db_ip,db_name))\n",
    "if not database_exists(engine.url): create_database(engine.url)"
   ]
  },
  {
   "cell_type": "markdown",
   "id": "d68ba11d",
   "metadata": {},
   "source": [
    "### Création de BDD et ingestion de données dans les tables"
   ]
  },
  {
   "cell_type": "code",
   "execution_count": null,
   "id": "e71ace02",
   "metadata": {},
   "outputs": [],
   "source": [
    "pd.DataFrame.to_sql(df, name=\"friends\",con=engine, if_exists='replace')\n",
    "pd.DataFrame.to_sql(df_actor, name=\"actor\",con=engine, if_exists='replace')\n",
    "pd.DataFrame.to_sql(df_play, name=\"play\",con=engine, if_exists='replace')\n",
    "pd.DataFrame.to_sql(df_episods, name=\"episod\",con=engine, if_exists='replace')\n",
    "pd.DataFrame.to_sql(df_seasons, name=\"season\",con=engine, if_exists='replace')"
   ]
  },
  {
   "cell_type": "markdown",
   "id": "fb8095c4",
   "metadata": {},
   "source": [
    "### Définition de clés primaires et clés étrangères"
   ]
  },
  {
   "cell_type": "code",
   "execution_count": null,
   "id": "5f8c3945",
   "metadata": {},
   "outputs": [],
   "source": [
    "with engine.connect() as con:\n",
    "    con.execute(text('USE db_friends;'))\n",
    "    con.execute(text('ALTER TABLE friends ADD CONSTRAINT PK_friend PRIMARY KEY (id);'))\n",
    "    con.execute(text('ALTER TABLE friends ADD FOREIGN KEY (season_id) REFERENCES season(season_id);'))\n",
    "    con.execute(text('ALTER TABLE friends ADD FOREIGN KEY (episod_id) REFERENCES episod(episod_id);'))\n",
    "    \n",
    "    con.execute(text('ALTER TABLE actor ADD CONSTRAINT PK_actor PRIMARY KEY (actor_id);'))\n",
    "\n",
    "    con.execute(text('ALTER TABLE play ADD CONSTRAINT PK_play PRIMARY KEY (play_id);'))\n",
    "    con.execute(text('ALTER TABLE play ADD FOREIGN KEY (season_id) REFERENCES season(season_id);'))\n",
    "    con.execute(text('ALTER TABLE play ADD FOREIGN KEY (actor_id) REFERENCES actor(actor_id);'))\n",
    "    con.execute(text('ALTER TABLE play ADD FOREIGN KEY (episod_id) REFERENCES episod(episod_id);'))\n",
    "    \n",
    "    con.execute(text('ALTER TABLE season ADD CONSTRAINT PK_season PRIMARY KEY (season_id);'))\n",
    "    con.execute(text('ALTER TABLE episod ADD CONSTRAINT PK_episod PRIMARY KEY (episod_id);'))"
   ]
  },
  {
   "cell_type": "markdown",
   "id": "122e7ce6",
   "metadata": {},
   "source": [
    "## Analyse"
   ]
  },
  {
   "cell_type": "markdown",
   "id": "f5ccff70",
   "metadata": {},
   "source": [
    "### SQL"
   ]
  },
  {
   "cell_type": "code",
   "execution_count": null,
   "id": "ce88bf9d",
   "metadata": {},
   "outputs": [],
   "source": [
    "# Set function as our sql_to_pandas\n",
    "def sql_to_df(sql_query):\n",
    "\n",
    "    # Use pandas to pass sql query using connection form Mysql/SQLite3/postgresql\n",
    "    df = pd.read_sql_query(text(sql_query), engine.connect())\n",
    "\n",
    "    # Show the resulting DataFrame\n",
    "    return df"
   ]
  },
  {
   "cell_type": "code",
   "execution_count": null,
   "id": "4dce5340",
   "metadata": {},
   "outputs": [],
   "source": [
    "sql_to_df(\"SELECT * FROM actor limit 5;\")"
   ]
  },
  {
   "cell_type": "code",
   "execution_count": null,
   "id": "a425499c",
   "metadata": {},
   "outputs": [],
   "source": [
    "sql_to_df(\"SELECT * FROM play limit 5;\")"
   ]
  },
  {
   "cell_type": "code",
   "execution_count": null,
   "id": "48425765",
   "metadata": {},
   "outputs": [],
   "source": [
    "sql_to_df(\"SELECT * FROM episod limit 5;\")"
   ]
  },
  {
   "cell_type": "code",
   "execution_count": null,
   "id": "087d74c5",
   "metadata": {},
   "outputs": [],
   "source": [
    "sql_to_df(\"SELECT * FROM season limit 5;\")"
   ]
  },
  {
   "cell_type": "code",
   "execution_count": null,
   "id": "8aefafc0",
   "metadata": {},
   "outputs": [],
   "source": [
    "sql_to_df(\"SELECT * FROM friends limit 5;\")"
   ]
  },
  {
   "cell_type": "markdown",
   "id": "1ce8642f",
   "metadata": {},
   "source": [
    "###  Analyse sur votes totaux par saison"
   ]
  },
  {
   "cell_type": "code",
   "execution_count": null,
   "id": "fc41057d",
   "metadata": {},
   "outputs": [],
   "source": [
    "df_episod_sql_output = sql_to_df(\"\"\"\n",
    "SELECT   s.title as season, SUM(vote) as total_vote\n",
    "FROM friends f\n",
    "INNER JOIN season s ON s.season_id = f.season_id  \n",
    "GROUP BY season\n",
    ";\"\"\")"
   ]
  },
  {
   "cell_type": "code",
   "execution_count": null,
   "id": "908d095c",
   "metadata": {},
   "outputs": [],
   "source": [
    "# Tendance des votes totaux par saison\n",
    "plt.figure(figsize=(8, 6))\n",
    "sns.lineplot(x=\"season\", \n",
    "             y=\"total_vote\", \n",
    "             data=df_episod_sql_output,\n",
    "             marker='o',\n",
    "             linewidth=2,\n",
    "             color='#1e88e5',\n",
    "             markersize=8 )\n",
    "\n",
    "plt.title(\"Évolution du nombre total de votes par saison\", fontsize=20, pad=20)\n",
    "plt.xlabel(\"Saison\", fontsize=14, labelpad=10)\n",
    "plt.ylabel(\"Nombre total de votes\", fontsize=14, labelpad=10)\n",
    "\n",
    "# Personnaliser les ticks\n",
    "plt.xticks(rotation=45)\n",
    "plt.yticks(fontsize=12)\n",
    "\n",
    "# Ajouter une grille légère\n",
    "plt.grid(True, linestyle='--', alpha=0.7)\n",
    "plt.show()"
   ]
  },
  {
   "cell_type": "markdown",
   "id": "ddaf9518",
   "metadata": {},
   "source": [
    "Le graphique montre une décroissance constante du nombre total de votes à mesure que les saisons avancent."
   ]
  },
  {
   "cell_type": "markdown",
   "id": "aaa310a0",
   "metadata": {},
   "source": [
    "###  Analyse sur note moyenne par saison"
   ]
  },
  {
   "cell_type": "code",
   "execution_count": null,
   "id": "0d8366e6",
   "metadata": {},
   "outputs": [],
   "source": [
    "df_episod_avg_rating_sql_output = sql_to_df(\"\"\"\n",
    "SELECT s.title as season, AVG(rating) as avg_rating\n",
    "FROM friends f\n",
    "INNER JOIN season s ON s.season_id = f.season_id  \n",
    "GROUP BY season\n",
    ";\"\"\")"
   ]
  },
  {
   "cell_type": "code",
   "execution_count": null,
   "id": "334a530b",
   "metadata": {
    "scrolled": false
   },
   "outputs": [],
   "source": [
    "# Progression des moyennes des notes\n",
    "plt.figure(figsize=(8, 6))\n",
    "sns.lineplot(x=\"season\", \n",
    "             y=\"avg_rating\", \n",
    "             data=df_episod_avg_rating_sql_output,\n",
    "             marker='o',\n",
    "             linewidth=2,\n",
    "             color='#1e88e5',\n",
    "             markersize=8 )\n",
    "\n",
    "plt.title(\"Progression des moyennes des notes\", fontsize=20, pad=20)\n",
    "plt.xlabel(\"Saison\", fontsize=14, labelpad=10)\n",
    "plt.ylabel(\"Moyenne des notes\", fontsize=14, labelpad=10)\n",
    "\n",
    "# Personnaliser les ticks\n",
    "plt.xticks(rotation=45)\n",
    "plt.yticks(fontsize=12)\n",
    "\n",
    "# Ajouter une grille légère\n",
    "plt.grid(True, linestyle='--', alpha=0.7)\n",
    "plt.show()"
   ]
  },
  {
   "cell_type": "markdown",
   "id": "25707ce0",
   "metadata": {},
   "source": [
    "L'analyse des moyennes des notes par saison ne révèle pas de tendance significative."
   ]
  },
  {
   "cell_type": "markdown",
   "id": "50a9c432",
   "metadata": {},
   "source": [
    "### La meilleure épisode"
   ]
  },
  {
   "cell_type": "code",
   "execution_count": null,
   "id": "3a4f3b2e",
   "metadata": {},
   "outputs": [],
   "source": [
    "df_best_rating_sql_output = sql_to_df(\"\"\"\n",
    "SELECT f.title as title, f.rating as rating, CONCAT(s.title, e.title) as episod\n",
    "FROM friends f\n",
    "INNER JOIN season s ON s.season_id = f.season_id  \n",
    "INNER JOIN episod e ON e.episod_id = f.episod_id \n",
    "ORDER BY f.rating DESC\n",
    "LIMIT 10\n",
    ";\"\"\")"
   ]
  },
  {
   "cell_type": "code",
   "execution_count": null,
   "id": "c6886f51",
   "metadata": {},
   "outputs": [],
   "source": [
    "sns.set_style(\"whitegrid\")\n",
    "sns.set_context(\"notebook\", font_scale=1.2)\n",
    "\n",
    "# Créer la figure et les axes\n",
    "plt.figure(figsize=(16, 10))\n",
    "\n",
    "# Créer le barplot\n",
    "ax = sns.barplot(\n",
    "    x='episod', \n",
    "    y='rating', \n",
    "    data=df_best_rating_sql_output,\n",
    "    palette='viridis'\n",
    ")\n",
    "\n",
    "plt.title('Top 10 des épisodes de Friends par note', fontsize=20, pad=20)\n",
    "plt.xlabel('Épisodes', fontsize=14, labelpad=10)\n",
    "plt.ylabel('Note', fontsize=14, labelpad=10)\n",
    "\n",
    "# Rotation des étiquettes de l'axe x pour une meilleure lisibilité\n",
    "plt.xticks(rotation=45, ha='right')\n",
    "\n",
    "# Ajouter les valeurs sur chaque barre\n",
    "for i, v in enumerate(df_best_rating_sql_output['rating']):\n",
    "    ax.text(i, v, f'{v:.1f}', ha='center', va='bottom', fontweight='bold')\n",
    "\n",
    "# Ajuster l'axe y\n",
    "plt.ylim(8.5, 10)\n",
    "\n",
    "# Supprimer les bordures supérieure et droite\n",
    "sns.despine()\n",
    "\n",
    "# Ajuster la mise en page et afficher\n",
    "plt.tight_layout()\n",
    "plt.show()"
   ]
  },
  {
   "cell_type": "markdown",
   "id": "ba7bf59f",
   "metadata": {},
   "source": [
    "La saison S5E14 a une plus haute note."
   ]
  },
  {
   "cell_type": "markdown",
   "id": "cd0a6c8e",
   "metadata": {},
   "source": [
    "### Analyse sur acteurs"
   ]
  },
  {
   "cell_type": "code",
   "execution_count": null,
   "id": "4cd3e3b8",
   "metadata": {},
   "outputs": [],
   "source": [
    "df_best_rating_sql_output = sql_to_df(\"\"\"\n",
    "SELECT a.full_name as actor, e.title as episod, s.title as season\n",
    "FROM play p\n",
    "INNER JOIN actor a ON a.actor_id = p.actor_id\n",
    "INNER JOIN episod e ON e.episod_id = p.episod_id \n",
    "INNER JOIN season s ON s.season_id = p.season_id\n",
    ";\"\"\")"
   ]
  },
  {
   "cell_type": "code",
   "execution_count": null,
   "id": "9f430494",
   "metadata": {},
   "outputs": [],
   "source": []
  }
 ],
 "metadata": {
  "kernelspec": {
   "display_name": "Python 3 (ipykernel)",
   "language": "python",
   "name": "python3"
  },
  "language_info": {
   "codemirror_mode": {
    "name": "ipython",
    "version": 3
   },
   "file_extension": ".py",
   "mimetype": "text/x-python",
   "name": "python",
   "nbconvert_exporter": "python",
   "pygments_lexer": "ipython3",
   "version": "3.11.7"
  }
 },
 "nbformat": 4,
 "nbformat_minor": 5
}
